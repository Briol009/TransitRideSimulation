{
 "cells": [
  {
   "cell_type": "code",
   "execution_count": null,
   "id": "f0f168d3-cce6-4f8e-bb4f-52a7c4a9d329",
   "metadata": {},
   "outputs": [],
   "source": [
    "Combine Simualtion Outputs into one File"
   ]
  },
  {
   "cell_type": "code",
   "execution_count": null,
   "id": "768689b6-3144-4640-acfb-4c27975fb3e9",
   "metadata": {},
   "outputs": [],
   "source": [
    "import pandas as pd\n",
    "import os\n",
    "\n",
    "# Folder containing the CSV files\n",
    "csv_folder = r'./simulation_outputs'\n",
    "\n",
    "# Get a list of all CSV files in the folder\n",
    "csv_files = [f for f in os.listdir(csv_folder) if f.endswith('.csv')]\n",
    "\n",
    "# Combine all CSV files into a single DataFrame\n",
    "combined_csv = pd.concat([pd.read_csv(os.path.join(csv_folder, f)) for f in csv_files])\n",
    "\n",
    "# Save the combined CSV to a new file\n",
    "combined_csv.to_csv('combined_simulation_output.csv', index=False)\n",
    "\n",
    "print(\"CSV files combined successfully!\")"
   ]
  }
 ],
 "metadata": {
  "kernelspec": {
   "display_name": "Python 3 (ipykernel)",
   "language": "python",
   "name": "python3"
  },
  "language_info": {
   "codemirror_mode": {
    "name": "ipython",
    "version": 3
   },
   "file_extension": ".py",
   "mimetype": "text/x-python",
   "name": "python",
   "nbconvert_exporter": "python",
   "pygments_lexer": "ipython3",
   "version": "3.9.7"
  }
 },
 "nbformat": 4,
 "nbformat_minor": 5
}
