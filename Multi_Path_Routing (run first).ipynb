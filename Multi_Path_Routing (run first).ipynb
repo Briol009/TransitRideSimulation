{
 "cells": [
  {
   "cell_type": "markdown",
   "id": "b85021be-7193-48dd-8e0a-d8288e144984",
   "metadata": {},
   "source": [
    "# Creating the Route Options from Googles API\n",
    "## By: Laure Briol aided by Generative AI"
   ]
  },
  {
   "cell_type": "code",
   "execution_count": 1,
   "id": "expired-nylon",
   "metadata": {},
   "outputs": [],
   "source": [
    "#import statements\n",
    "import requests\n",
    "import datetime\n",
    "import re\n",
    "import json"
   ]
  },
  {
   "cell_type": "code",
   "execution_count": 2,
   "id": "induced-ethnic",
   "metadata": {},
   "outputs": [],
   "source": [
    "#function to call Google API to get directions from Google. All the route options including steps for each route option\n",
    "#documentation: https://developers.google.com/maps/documentation/directions/overview\n",
    "def get_transit_directions(origin, destination, departure_time, api_key):\n",
    "    url = \"https://maps.googleapis.com/maps/api/directions/json\"\n",
    "\n",
    "    params = {\n",
    "        \"origin\": origin,\n",
    "        \"destination\": destination,\n",
    "        \"mode\": \"transit\",\n",
    "        \"transit_mode\": \"bus|subway|train|tram\",\n",
    "        \"departure_time\": departure_time,\n",
    "        \"alternatives\": \"true\",\n",
    "        \"key\": api_key\n",
    "    }\n",
    "\n",
    "    response = requests.get(url, params=params)\n",
    "    directions = response.json()\n",
    "\n",
    "    if directions[\"status\"] != \"OK\":\n",
    "        print(f\"Error fetching directions: {directions['status']}\")\n",
    "        if \"error_message\" in directions:\n",
    "            print(f\"Error message: {directions['error_message']}\")\n",
    "        return None\n",
    "\n",
    "    return directions"
   ]
  },
  {
   "cell_type": "markdown",
   "id": "cea1972c-6669-4803-8ba8-bf20b2ff5762",
   "metadata": {},
   "source": [
    "The below section is setting up our start location, end location, and departure time for the Google API call\n",
    "\n",
    "Manually adjust this code depending on what day/time we want to create a file for.\n",
    "There are two chunks of code that are the same. To save time rewriting everything nightly, I copy-pasted whichever chunk I wanted to make the API call to be lower down in the code cell, so it would over-write the earlier code. So, for example I would run the code with the TO WORK chunk lower down, this ignores the FROM WORK code that is higher up. I manually change the time to get each hour. Then, when I start doing the afternoon hours starting at 1300, move the FROM WORK code lower in the cell, so it overwrites the TO WORK code. \n",
    "\n",
    "For each hour, run this cell plus the next couple cells to save the route options to a .json file."
   ]
  },
  {
   "cell_type": "code",
   "execution_count": null,
   "id": "southern-supply",
   "metadata": {},
   "outputs": [],
   "source": [
    "#chunk of code for morning commute TO WORK\n",
    "#replace these variables with your data (location)\n",
    "origin = \"1315 Cleveland Ave N, St Paul, MN 55108\"\n",
    "destination = \"Code42, 100 Washington Square, 100 Washington Ave S, Minneapolis, MN 55401\"\n",
    "api_key = \"\"  # Place your actual API key here\n",
    "\n",
    "#future date and time in 'YYYY-MM-DD HH:MM' format  (departure time) (from home)\n",
    "future_date_time_str = \"2024-11-09 08:00\"\n",
    "\n",
    "# Parse the future date and time\n",
    "future_date_time = datetime.datetime.strptime(future_date_time_str, \"%Y-%m-%d %H:%M\")\n",
    "departure_time = int(future_date_time.timestamp())\n",
    "\n",
    "# Format future_date_time for filename (e.g., '20231015_1430')\n",
    "future_date_time_formatted = future_date_time.strftime(\"%Y%m%d_%H%M\")\n",
    "\n",
    "# Create the filename with future date and time only\n",
    "filename = f\"to_work_{future_date_time_formatted}.json\"\n",
    "\n",
    "#------------------------------------------------------------\n",
    "\n",
    "#chunk of code for afternoon commute FROM WORK\n",
    "#replace these variables with your data (location)\n",
    "origin = \"Code42, 100 Washington Square, 100 Washington Ave S, Minneapolis, MN 55401\"\n",
    "destination = \"1315 Cleveland Ave N, St Paul, MN 55108\"\n",
    "api_key = \"\"  # Place your actual API key here\n",
    "\n",
    "#future date and time in 'YYYY-MM-DD HH:MM' format (departure time) (from work)\n",
    "future_date_time_str = \"2024-10-30 13:00\"\n",
    "\n",
    "#parse the future date and time\n",
    "future_date_time = datetime.datetime.strptime(future_date_time_str, \"%Y-%m-%d %H:%M\")\n",
    "departure_time = int(future_date_time.timestamp())\n",
    "\n",
    "#format future_date_time for filename (e.g., '20231015_1430')\n",
    "future_date_time_formatted = future_date_time.strftime(\"%Y%m%d_%H%M\")\n",
    "\n",
    "#create the filename with future date and time only\n",
    "filename = f\"from_work_{future_date_time_formatted}.json\""
   ]
  },
  {
   "cell_type": "code",
   "execution_count": 16,
   "id": "renewable-childhood",
   "metadata": {},
   "outputs": [
    {
     "name": "stdout",
     "output_type": "stream",
     "text": [
      "Error fetching directions: ZERO_RESULTS\n"
     ]
    }
   ],
   "source": [
    "#calling Google API\n",
    "directions_response = get_transit_directions(origin, destination, departure_time, api_key)"
   ]
  },
  {
   "cell_type": "code",
   "execution_count": 17,
   "id": "mediterranean-accountability",
   "metadata": {},
   "outputs": [
    {
     "name": "stdout",
     "output_type": "stream",
     "text": [
      "No response to save.\n"
     ]
    }
   ],
   "source": [
    "#save the response to a JSON file\n",
    "if directions_response:\n",
    "    with open(filename, 'w') as json_file:\n",
    "        json.dump(directions_response, json_file, indent=4)\n",
    "    print(f\"API response saved to {filename}\")\n",
    "else:\n",
    "    print(\"No response to save.\")"
   ]
  }
 ],
 "metadata": {
  "kernelspec": {
   "display_name": "Python 3 (ipykernel)",
   "language": "python",
   "name": "python3"
  },
  "language_info": {
   "codemirror_mode": {
    "name": "ipython",
    "version": 3
   },
   "file_extension": ".py",
   "mimetype": "text/x-python",
   "name": "python",
   "nbconvert_exporter": "python",
   "pygments_lexer": "ipython3",
   "version": "3.9.7"
  }
 },
 "nbformat": 4,
 "nbformat_minor": 5
}
